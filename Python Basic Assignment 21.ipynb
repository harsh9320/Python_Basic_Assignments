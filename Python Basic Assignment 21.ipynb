{
 "cells": [
  {
   "cell_type": "code",
   "execution_count": 1,
   "metadata": {},
   "outputs": [
    {
     "data": {
      "text/plain": [
       "'2022-01-11'"
      ]
     },
     "execution_count": 1,
     "metadata": {},
     "output_type": "execute_result"
    }
   ],
   "source": [
    "#Q. Add the current date to the text file today.txt as a string.\n",
    "\n",
    "import datetime\n",
    "from datetime import date\n",
    "now = date.today()\n",
    "cur_date = now.isoformat()\n",
    "cur_date"
   ]
  },
  {
   "cell_type": "code",
   "execution_count": 2,
   "metadata": {},
   "outputs": [],
   "source": [
    "with open('today.txt','w') as file:\n",
    "    file.write(cur_date)"
   ]
  },
  {
   "cell_type": "code",
   "execution_count": 3,
   "metadata": {},
   "outputs": [
    {
     "data": {
      "text/plain": [
       "'2022-01-11'"
      ]
     },
     "execution_count": 3,
     "metadata": {},
     "output_type": "execute_result"
    }
   ],
   "source": [
    "#Q. Read the text file today.txt into the string today_string\n",
    "\n",
    "with open('today.txt','r') as file:\n",
    "    today_string = file.read()\n",
    "today_string"
   ]
  },
  {
   "cell_type": "code",
   "execution_count": 4,
   "metadata": {},
   "outputs": [
    {
     "data": {
      "text/plain": [
       "datetime.datetime(2022, 1, 11, 0, 0)"
      ]
     },
     "execution_count": 4,
     "metadata": {},
     "output_type": "execute_result"
    }
   ],
   "source": [
    "#Q. Parse the date from today_string.\n",
    "\n",
    "from datetime import datetime\n",
    "format = '%Y-%m-%d'\n",
    "datetime.strptime(today_string,format)"
   ]
  },
  {
   "cell_type": "code",
   "execution_count": 5,
   "metadata": {},
   "outputs": [
    {
     "data": {
      "text/plain": [
       "['.ipynb_checkpoints',\n",
       " '1640147326012-removebg-preview.png',\n",
       " '1640147326012.jpg',\n",
       " '1640318612118 (1) (1) (1).jpg',\n",
       " '1640318612118 (1) (1).jpg',\n",
       " '1640318612118 (1).jpg',\n",
       " '1640318612118.jpg',\n",
       " '50100416776032_1640246446998.pdf',\n",
       " '7z1900-x64.exe',\n",
       " '8+.docx',\n",
       " '92e9c26f-96a6-4df5-a7f7-b8f52b2f1398.pdf',\n",
       " 'ab.jpg',\n",
       " 'abc.py',\n",
       " 'adharf.jpg',\n",
       " 'af.jpg',\n",
       " 'AlphaFold2.ipynb',\n",
       " 'Appointment_slip_harsh.pdf',\n",
       " 'Appointment_slip_varsha.pdf',\n",
       " 'audacity-win-3.0.4-x64.exe',\n",
       " 'books.csv',\n",
       " 'books.db',\n",
       " 'caste.pdf',\n",
       " 'certificate (1).pdf',\n",
       " 'certificate (2) (1).pdf',\n",
       " 'certificate (2).pdf',\n",
       " 'certificate.pdf',\n",
       " 'Cv.docx',\n",
       " 'd9359646af42c999dfb99855354ea07b.jpg',\n",
       " 'DID211004110532477DWPOY3OQGTNF6E.pdf',\n",
       " 'Digital Clock with Python.ipynb',\n",
       " 'EDA1-master',\n",
       " 'freasher -converted.docx',\n",
       " 'freasher .pdf',\n",
       " 'FreeVKSetup.exe',\n",
       " 'harsh.docx',\n",
       " 'harshcv.docx',\n",
       " 'Honeygain_install (1).exe',\n",
       " 'Honeygain_install.exe',\n",
       " 'hsc.pdf',\n",
       " 'IMU CET Online Registration__ Preview Application.pdf',\n",
       " 'IMU CET Online Registration__ Receipt.pdf',\n",
       " 'Investment Predictions.pdf',\n",
       " 'lec1.pdf',\n",
       " 'license.pdf',\n",
       " 'Linear regression part 1.ipynb',\n",
       " 'Maahi Ve.mp3',\n",
       " 'Mast Kalandar (Full Song) Heyy Babyy.mp3',\n",
       " 'Mujhse Shadi Karogi Full Song _ Mujhse Shaadi Karogi.mp3',\n",
       " 'mycv.docx',\n",
       " 'mypic.jpg',\n",
       " 'pan.jpg',\n",
       " 'Payslip_Apr_2021-unlocked.pdf',\n",
       " 'Payslip_Aug_2021-unlocked.pdf',\n",
       " 'Payslip_Jul_2021-unlocked.pdf',\n",
       " 'Payslip_Jun_2021-unlocked.pdf',\n",
       " 'Payslip_May_2021-unlocked.pdf',\n",
       " 'Payslip_Nov_2021-unlocked.pdf',\n",
       " 'Payslip_Oct_2021-unlocked.pdf',\n",
       " 'Payslip_Sep_2021-unlocked.pdf',\n",
       " 'ProtonVPN_win_v1.24.2.exe',\n",
       " 'pyas15.ipynb',\n",
       " 'pyas21.ipynb',\n",
       " 'pyass14.md',\n",
       " 'Report.pdf',\n",
       " 'res-converted.pdf',\n",
       " 'res-converted_compressed.pdf',\n",
       " 'res.jpg',\n",
       " 'rough',\n",
       " 'rps20191217_141909.jpg',\n",
       " 'rps20201213_213645.jpg',\n",
       " 'sakib.jpg',\n",
       " 'sign.jpg',\n",
       " 'sign2.jpg',\n",
       " 'ssc.pdf',\n",
       " 'statement.pdf',\n",
       " 'stmt_32960100011494_1633324851829.pdf',\n",
       " 'Stock-MArket-Forecasting-master',\n",
       " 'Stock-MArket-Forecasting-master (1)',\n",
       " 'Stock-MArket-Forecasting-master (1).zip',\n",
       " 'Stock-MArket-Forecasting-master.zip',\n",
       " 'stockprediction.ipynb',\n",
       " 'stockprediction.py',\n",
       " 'test.txt',\n",
       " 'test_91e81.fasta',\n",
       " 'test_91e81.log',\n",
       " 'today.txt',\n",
       " 'Untitled.ipynb']"
      ]
     },
     "execution_count": 5,
     "metadata": {},
     "output_type": "execute_result"
    }
   ],
   "source": [
    "#Q. List the files in your current directory\n",
    "\n",
    "import os\n",
    "os.listdir('.')"
   ]
  },
  {
   "cell_type": "code",
   "execution_count": 6,
   "metadata": {},
   "outputs": [],
   "source": [
    "#Q. Use multiprocessing to create three separate processes. Make each one wait a random number of seconds between one and five, print the current time, and then exit.\n",
    "\n",
    "import multiprocessing\n",
    "\n",
    "def printsec(seconds):\n",
    "    from datetime import datetime\n",
    "    from time import sleep\n",
    "    sleep(seconds)\n",
    "    print('wait', seconds, 'seconds, time is', datetime.utcnow())\n",
    "    \n",
    "if __name__ == '__main__':\n",
    "    import random    \n",
    "    for n in range(3):\n",
    "        seconds = random.random()\n",
    "        proc = multiprocessing.Process(target=printsec, args=(seconds,))\n",
    "        proc.start()"
   ]
  },
  {
   "cell_type": "code",
   "execution_count": 7,
   "metadata": {},
   "outputs": [],
   "source": [
    "!python abc.py"
   ]
  },
  {
   "cell_type": "code",
   "execution_count": 15,
   "metadata": {},
   "outputs": [
    {
     "data": {
      "text/plain": [
       "datetime.date(2001, 8, 26)"
      ]
     },
     "execution_count": 15,
     "metadata": {},
     "output_type": "execute_result"
    }
   ],
   "source": [
    "#Q. Create a date object of your day of birth\n",
    "\n",
    "my_dob = date(2001,8,26)\n",
    "my_dob"
   ]
  },
  {
   "cell_type": "code",
   "execution_count": 16,
   "metadata": {},
   "outputs": [
    {
     "data": {
      "text/plain": [
       "6"
      ]
     },
     "execution_count": 16,
     "metadata": {},
     "output_type": "execute_result"
    }
   ],
   "source": [
    "#Q. What day of the week was your day of birth?\n",
    "\n",
    "my_dob.weekday()"
   ]
  },
  {
   "cell_type": "code",
   "execution_count": 17,
   "metadata": {},
   "outputs": [
    {
     "data": {
      "text/plain": [
       "datetime.date(2029, 1, 11)"
      ]
     },
     "execution_count": 17,
     "metadata": {},
     "output_type": "execute_result"
    }
   ],
   "source": [
    "#Q. When will you be (or when were you) 10,000 days old?\n",
    "\n",
    "from datetime import timedelta\n",
    "day10000 = my_dob + timedelta(days=10000)\n",
    "day10000"
   ]
  },
  {
   "cell_type": "code",
   "execution_count": null,
   "metadata": {},
   "outputs": [],
   "source": []
  }
 ],
 "metadata": {
  "kernelspec": {
   "display_name": "Python 3",
   "language": "python",
   "name": "python3"
  },
  "language_info": {
   "codemirror_mode": {
    "name": "ipython",
    "version": 3
   },
   "file_extension": ".py",
   "mimetype": "text/x-python",
   "name": "python",
   "nbconvert_exporter": "python",
   "pygments_lexer": "ipython3",
   "version": "3.8.5"
  }
 },
 "nbformat": 4,
 "nbformat_minor": 4
}
